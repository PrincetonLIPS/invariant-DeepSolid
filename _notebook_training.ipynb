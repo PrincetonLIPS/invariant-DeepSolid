{
 "cells": [
  {
   "cell_type": "markdown",
   "id": "ad6cdd56",
   "metadata": {},
   "source": [
    "# Training demo\n",
    "\n",
    "This notebook illustrates two ways of training the network:\n",
    "- in a single Jupyter Notebook and with resources on a a single node\n",
    "- via slurm command and with gpus from multiple nodes \n",
    "\n",
    "Examples with OG, DA and GA are included. The code also supports in-training canonicalization, but this gets computationally expensive very quickly.\n",
    "\n",
    "\n",
    "Problem-specific inputs:\n",
    "- a config file in the `config` folder, which specifies the physical system and symmetries to use\n",
    "- a config file in the `optim_config` folder, which specifies the training setup e.g. batch size and symmetrisation strategies (OG, DA, GA or canon)\n",
    "\n",
    "The config object includes all specifications of the physical system and training setup. As detailed in `mpatch_load_cfg` in `utils/loader.py`, the training config is initialized by `utils/base_config.py`, before being processed by the user-specified `config` and `optim_config`."
   ]
  },
  {
   "cell_type": "markdown",
   "id": "e32a8bc2",
   "metadata": {},
   "source": [
    "# Single node"
   ]
  },
  {
   "cell_type": "markdown",
   "id": "f056cf2e",
   "metadata": {},
   "source": [
    "`resume` option can be used to restart a training from the last saved checkpoint. To use resume, one should not supply `dist`, `base_cfg_str`, `cfg_str` or `optim_cfg_str`, as these parameters are inherited from the last checkpoint."
   ]
  },
  {
   "cell_type": "code",
   "execution_count": null,
   "id": "d526ee6a",
   "metadata": {},
   "outputs": [],
   "source": [
    "import train \n",
    "\n",
    "train.train(\n",
    "        log_dir='_log_graphene_OG_test/',\n",
    "        libcu_lib_path='/opt/conda/envs/deepsolid/lib/',  # path to cuda libraries. Keep this path if the code is run inside the singularity container; change it to the corresponding path otherwise. \n",
    "        # dist=False, # whether distributed training is run over multiple nodes; false for single node setup\n",
    "        # cfg_str='graphene_1.py',\n",
    "        # optim_cfg_str='OG_batch1000.py',\n",
    "        resume = True,\n",
    "        x64 = True,\n",
    ")"
   ]
  },
  {
   "cell_type": "code",
   "execution_count": null,
   "id": "2ba31971",
   "metadata": {},
   "outputs": [],
   "source": [
    "import train \n",
    "\n",
    "train.train(\n",
    "        log_dir='_log_graphene_DA_test/',\n",
    "        libcu_lib_path='/opt/conda/envs/deepsolid/lib/',  # path to cuda libraries. Keep this path if the code is run inside the singularity container; change it to the corresponding path otherwise. \n",
    "        dist=False, # whether distributed training is run over multiple nodes; false for single node setup\n",
    "        cfg_str='graphene_1.py',\n",
    "        optim_cfg_str='DA12_batch90.py',\n",
    "        # resume = True,\n",
    "        x64 = True,\n",
    ")"
   ]
  },
  {
   "cell_type": "code",
   "execution_count": null,
   "id": "98e68bc0",
   "metadata": {},
   "outputs": [],
   "source": [
    "import train \n",
    "\n",
    "train.train(\n",
    "        log_dir='_log_graphene_GA_test/',\n",
    "        libcu_lib_path='/opt/conda/envs/deepsolid/lib/',  # path to cuda libraries. Keep this path if the code is run inside the singularity container; change it to the corresponding path otherwise. \n",
    "        dist=False, # whether distributed training is run over multiple nodes; false for single node setup\n",
    "        cfg_str='graphene_1.py',\n",
    "        optim_cfg_str='GA12_batch90.py',\n",
    "        # resume = True,\n",
    "        x64 = True,\n",
    ")"
   ]
  },
  {
   "cell_type": "markdown",
   "id": "0a6042b8",
   "metadata": {},
   "source": [
    "# Multiple nodes using singularity container"
   ]
  },
  {
   "cell_type": "markdown",
   "id": "07510045",
   "metadata": {},
   "source": [
    "Some comments on the commands below:\n",
    "- <span style='color:red'>**IMPORTANT**</span>: Use `export SCRATCH=/YOUR/SCRATCH/FOLDER` first to specify the folder containing your singularity image.\n",
    "- `SINGULARITY_CMD` activates singularity. \n",
    "- Use `./slurm_dist.sh --help` to see slurm options\n",
    "- Use `python train.py --help` to see training script options\n",
    "- Certain flags need to be specified according to your slurm setup, e.g. -A, --partition, --mail-user"
   ]
  },
  {
   "cell_type": "code",
   "execution_count": null,
   "id": "e3d2216c",
   "metadata": {},
   "outputs": [],
   "source": [
    "export SINGULARITY_CMD=\"singularity exec --no-home --nv --bind .:/home/invariant-schrodinger --pwd /home/invariant-schrodinger $SCRATCH/inv-ds.sif /bin/bash -c \" && ./slurm_dist.sh --mem=10G --num-nodes=2 --port=8001 --timeout=1000 -A YOUR_ACCOUNT --partition=\"YOUR_PARTITION\" --gres=\"gpu:1\" --extra=\"-t 2-00:00:00 --mail-type=END,FAIL --mail-user=YOUR_EMAIL\" --log='_log_graphene_OG_test_multi' --name=\"OGgraphene\" --py-cmd=\"$SINGULARITY_CMD 'source /opt/conda/bin/activate deepsolid && python train.py --dist --x64 --cfg=graphene_1.py --optim_cfg=OG_batch1000.py --libcu_lib_path=/opt/conda/envs/deepsolid/lib/'\""
   ]
  },
  {
   "cell_type": "code",
   "execution_count": null,
   "id": "7059fbab",
   "metadata": {},
   "outputs": [],
   "source": [
    "export SINGULARITY_CMD=\"singularity exec --no-home --nv --bind .:/home/invariant-schrodinger --pwd /home/invariant-schrodinger $SCRATCH/inv-ds.sif /bin/bash -c \" && ./slurm_dist.sh --mem=10G --num-nodes=2 --port=8002 --timeout=1000 -A YOUR_ACCOUNT --partition=\"YOUR_PARTITION\" --gres=\"gpu:1\" --extra=\"-t 2-00:00:00 --mail-type=END,FAIL --mail-user=YOUR_EMAIL\" --log='_log_graphene_DA_test_multi' --name=\"DAgraphene\" --py-cmd=\"$SINGULARITY_CMD 'source /opt/conda/bin/activate deepsolid && python train.py --dist --x64 --cfg=graphene_1.py --optim_cfg=DA12_batch90.py --libcu_lib_path=/opt/conda/envs/deepsolid/lib/'\""
   ]
  },
  {
   "cell_type": "code",
   "execution_count": null,
   "id": "4c35f1f4",
   "metadata": {},
   "outputs": [],
   "source": [
    "export SINGULARITY_CMD=\"singularity exec --no-home --nv --bind .:/home/invariant-schrodinger --pwd /home/invariant-schrodinger $SCRATCH/inv-ds.sif /bin/bash -c \" && ./slurm_dist.sh --mem=10G --num-nodes=2 --port=8003 --timeout=1000 -A YOUR_ACCOUNT --partition=\"YOUR_PARTITION\" --gres=\"gpu:1\" --extra=\"-t 2-00:00:00 --mail-type=END,FAIL --mail-user=YOUR_EMAIL\" --log='_log_graphene_GA_test_multi' --name=\"GAgraphene\" --py-cmd=\"$SINGULARITY_CMD 'source /opt/conda/bin/activate deepsolid && python train.py --dist --x64 --cfg=graphene_1.py --optim_cfg=GA12_batch90.py --libcu_lib_path=/opt/conda/envs/deepsolid/lib/'\""
   ]
  }
 ],
 "metadata": {
  "kernelspec": {
   "display_name": "deepsolid",
   "language": "python",
   "name": "python3"
  },
  "language_info": {
   "codemirror_mode": {
    "name": "ipython",
    "version": 3
   },
   "file_extension": ".py",
   "mimetype": "text/x-python",
   "name": "python",
   "nbconvert_exporter": "python",
   "pygments_lexer": "ipython3",
   "version": "3.10.14"
  }
 },
 "nbformat": 4,
 "nbformat_minor": 5
}
