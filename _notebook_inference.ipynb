{
 "cells": [
  {
   "cell_type": "markdown",
   "id": "7036c13a",
   "metadata": {},
   "source": [
    "# Inference demo\n",
    "\n",
    "This notebook illustrates two ways of performing inference:\n",
    "- in a single Jupyter Notebook and with resources on a a single node\n",
    "- via slurm command and with gpus from multiple nodes \n",
    "\n",
    "Examples with OG, PA and PC are included."
   ]
  },
  {
   "cell_type": "markdown",
   "id": "4961e50d",
   "metadata": {},
   "source": [
    "# 1. Sampling\n",
    "\n",
    "Problem-specific inputs:\n",
    "- path to folder containing the training run\n",
    "- name of the checkpoint to sample from\n",
    "- a config file in the `sampling_config` folder, which specifies the configuration to use for sampling.\n",
    "\n",
    "Note that `batch_size` means the number of MCMC chains to run in parallel at sampling.\n",
    "\n",
    "The config object includes all specifications of the physical system and training setup. As detailed in `mpatch_load_cfg` in `utils/loader.py`, the training config is initialized by `utils/base_config.py`, before being processed by the user-specified `config`, `optim_config` and finally `sampling_config`."
   ]
  },
  {
   "cell_type": "markdown",
   "id": "04001d01",
   "metadata": {},
   "source": [
    "## 1.1 Single node"
   ]
  },
  {
   "cell_type": "code",
   "execution_count": null,
   "id": "2a3afe3e",
   "metadata": {},
   "outputs": [],
   "source": [
    "from utils.sampler import DeepSolidSampler\n",
    "\n",
    "sampler = DeepSolidSampler(\n",
    "                log_dir='_log_graphene_OG_test/',\n",
    "                sampling_cfg_str='OG_batch1000_mcmc3e4.py',\n",
    "                libcu_lib_path='/opt/conda/envs/deepsolid/lib/',\n",
    "                ckpt_restore_filename='qmcjax_ckpt_000000_process0.npz',\n",
    "                x64=True\n",
    ")   \n",
    "\n",
    "sampler.draw_samples(required_samples=2000, save_freq=1)"
   ]
  },
  {
   "cell_type": "code",
   "execution_count": null,
   "id": "6b9656a0",
   "metadata": {},
   "outputs": [],
   "source": [
    "from utils.sampler import DeepSolidSampler\n",
    "\n",
    "sampler = DeepSolidSampler(\n",
    "                log_dir='_log_graphene_DA_test/',\n",
    "                sampling_cfg_str='PA_batch1000_mcmc3e4.py',\n",
    "                libcu_lib_path='/opt/conda/envs/deepsolid/lib/',\n",
    "                ckpt_restore_filename='qmcjax_ckpt_000000_process0.npz',\n",
    "                x64=True\n",
    ")   \n",
    "\n",
    "sampler.draw_samples(required_samples=2000, save_freq=1)"
   ]
  },
  {
   "cell_type": "code",
   "execution_count": null,
   "id": "d4e4a2eb",
   "metadata": {},
   "outputs": [],
   "source": [
    "from utils.sampler import DeepSolidSampler\n",
    "\n",
    "sampler = DeepSolidSampler(\n",
    "                log_dir='_log_graphene_GA_test/',\n",
    "                sampling_cfg_str='PA_batch1000_mcmc3e4.py',\n",
    "                libcu_lib_path='/opt/conda/envs/deepsolid/lib/',\n",
    "                ckpt_restore_filename='qmcjax_ckpt_000000_process0.npz',\n",
    "                x64=True\n",
    ")   \n",
    "\n",
    "sampler.draw_samples(required_samples=2000, save_freq=1)"
   ]
  },
  {
   "cell_type": "code",
   "execution_count": null,
   "id": "dbfe9562",
   "metadata": {},
   "outputs": [],
   "source": [
    "# before this, copy the content of the OG training folder and rename it as _log_graphene_PA_test\n",
    "\n",
    "from utils.sampler import DeepSolidSampler\n",
    "\n",
    "sampler = DeepSolidSampler(\n",
    "                log_dir='_log_graphene_PA_test/',\n",
    "                sampling_cfg_str='PA_batch1000_mcmc3e4.py',\n",
    "                libcu_lib_path='/opt/conda/envs/deepsolid/lib/',\n",
    "                ckpt_restore_filename='qmcjax_ckpt_000000_process0.npz',\n",
    "                x64=True\n",
    ")   \n",
    "\n",
    "sampler.draw_samples(required_samples=2000, save_freq=1)"
   ]
  },
  {
   "cell_type": "code",
   "execution_count": null,
   "id": "843ab744",
   "metadata": {},
   "outputs": [],
   "source": [
    "# before this, copy the content of the OG training folder and rename it as _log_graphene_PC_test\n",
    "\n",
    "from utils.sampler import DeepSolidSampler\n",
    "\n",
    "sampler = DeepSolidSampler(\n",
    "                log_dir='_log_graphene_PC_test/',\n",
    "                sampling_cfg_str='PC_batch20_mcmc3e4.py',\n",
    "                libcu_lib_path='/opt/conda/envs/deepsolid/lib/',\n",
    "                ckpt_restore_filename='qmcjax_ckpt_000000_process0.npz',\n",
    "                x64=True\n",
    ")   \n",
    "\n",
    "sampler.draw_samples(required_samples=2000, save_freq=1)"
   ]
  },
  {
   "cell_type": "markdown",
   "id": "5ea296f5",
   "metadata": {},
   "source": [
    "## 1.2 Multiple nodes using singularity container"
   ]
  },
  {
   "cell_type": "markdown",
   "id": "d04a1e5b",
   "metadata": {},
   "source": [
    "Some comments on the commands below:\n",
    "- <span style='color:red'>**IMPORTANT**</span>: Use `export SCRATCH=/YOUR/SCRATCH/FOLDER` first to specify the folder containing your singularity image.\n",
    "- `SINGULARITY_CMD` activates singularity. \n",
    "- Use `./slurm_dist.sh --help` to see slurm options\n",
    "- Use `python sampling.py --help` to see training script options\n",
    "- Certain flags need to be specified according to your slurm setup, e.g. -A, --partition, --mail-user"
   ]
  },
  {
   "cell_type": "code",
   "execution_count": null,
   "id": "f50df08a",
   "metadata": {},
   "outputs": [],
   "source": [
    "export SINGULARITY_CMD=\"singularity exec --no-home --nv --bind .:/home/invariant-schrodinger --pwd /home/invariant-schrodinger $SCRATCH/inv-ds.sif /bin/bash -c \" && ./slurm_dist.sh --mem=10G --num-nodes=2 --port=8001 --timeout=1000 -A YOUR_ACCOUNT --partition=\"YOUR_PARTITION\" --gres=\"gpu:1\" --extra=\"-t 2-00:00:00 --mail-type=END,FAIL --mail-user=YOUR_EMAIL\" --log='_log_graphene_OG_test_multi' --name=\"OGgraphene\" --py-cmd=\"$SINGULARITY_CMD 'source /opt/conda/bin/activate deepsolid && python sampling.py --dist --ckpt_restore_filename=qmcjax_ckpt_000000_process0.npz --x64 --required_samples=2000 --save_freq=1 --sampling_cfg=OG_batch1000_mcmc3e4.py --libcu_lib_path=/opt/conda/envs/deepsolid/lib/'\""
   ]
  },
  {
   "cell_type": "code",
   "execution_count": null,
   "id": "4100c314",
   "metadata": {},
   "outputs": [],
   "source": [
    "export SINGULARITY_CMD=\"singularity exec --no-home --nv --bind .:/home/invariant-schrodinger --pwd /home/invariant-schrodinger $SCRATCH/inv-ds.sif /bin/bash -c \" && ./slurm_dist.sh --mem=10G --num-nodes=2 --port=8002 --timeout=1000 -A YOUR_ACCOUNT --partition=\"YOUR_PARTITION\" --gres=\"gpu:1\" --extra=\"-t 2-00:00:00 --mail-type=END,FAIL --mail-user=YOUR_EMAIL\" --log='_log_graphene_DA_test_multi' --name=\"DAgraphene\" --py-cmd=\"$SINGULARITY_CMD 'source /opt/conda/bin/activate deepsolid && python sampling.py --dist --ckpt_restore_filename=qmcjax_ckpt_000000_process0.npz --x64 --required_samples=2000 --save_freq=1 --sampling_cfg=PA_batch1000_mcmc3e4.py --libcu_lib_path=/opt/conda/envs/deepsolid/lib/'\""
   ]
  },
  {
   "cell_type": "code",
   "execution_count": null,
   "id": "40684827",
   "metadata": {},
   "outputs": [],
   "source": [
    "export SINGULARITY_CMD=\"singularity exec --no-home --nv --bind .:/home/invariant-schrodinger --pwd /home/invariant-schrodinger $SCRATCH/inv-ds.sif /bin/bash -c \" && ./slurm_dist.sh --mem=10G --num-nodes=2 --port=8003 --timeout=1000 -A YOUR_ACCOUNT --partition=\"YOUR_PARTITION\" --gres=\"gpu:1\" --extra=\"-t 2-00:00:00 --mail-type=END,FAIL --mail-user=YOUR_EMAIL\" --log='_log_graphene_GA_test_multi' --name=\"GAgraphene\" --py-cmd=\"$SINGULARITY_CMD 'source /opt/conda/bin/activate deepsolid && python sampling.py --dist --ckpt_restore_filename=qmcjax_ckpt_000000_process0.npz --x64 --required_samples=2000 --save_freq=1 --sampling_cfg=PA_batch1000_mcmc3e4.py --libcu_lib_path=/opt/conda/envs/deepsolid/lib/'\""
   ]
  },
  {
   "cell_type": "code",
   "execution_count": null,
   "id": "85e4b053",
   "metadata": {},
   "outputs": [],
   "source": [
    "export SINGULARITY_CMD=\"singularity exec --no-home --nv --bind .:/home/invariant-schrodinger --pwd /home/invariant-schrodinger $SCRATCH/inv-ds.sif /bin/bash -c \" && ./slurm_dist.sh --mem=10G --num-nodes=2 --port=8004 --timeout=1000 -A YOUR_ACCOUNT --partition=\"YOUR_PARTITION\" --gres=\"gpu:1\" --extra=\"-t 2-00:00:00 --mail-type=END,FAIL --mail-user=YOUR_EMAIL\" --log='_log_graphene_PA_test_multi' --name=\"PAgraphene\" --py-cmd=\"$SINGULARITY_CMD 'source /opt/conda/bin/activate deepsolid && python sampling.py --dist --ckpt_restore_filename=qmcjax_ckpt_000000_process0.npz --x64 --required_samples=2000 --save_freq=1 --sampling_cfg=PA_batch1000_mcmc3e4.py --libcu_lib_path=/opt/conda/envs/deepsolid/lib/'\""
   ]
  },
  {
   "cell_type": "code",
   "execution_count": null,
   "id": "4f729ae9",
   "metadata": {},
   "outputs": [],
   "source": [
    "export SINGULARITY_CMD=\"singularity exec --no-home --nv --bind .:/home/invariant-schrodinger --pwd /home/invariant-schrodinger $SCRATCH/inv-ds.sif /bin/bash -c \" && ./slurm_dist.sh --mem=10G --num-nodes=2 --port=8005 --timeout=1000 -A YOUR_ACCOUNT --partition=\"YOUR_PARTITION\" --gres=\"gpu:1\" --extra=\"-t 2-00:00:00 --mail-type=END,FAIL --mail-user=YOUR_EMAIL\" --log='_log_graphene_PC_test_multi' --name=\"PCgraphene\" --py-cmd=\"$SINGULARITY_CMD 'source /opt/conda/bin/activate deepsolid && python sampling.py --dist --ckpt_restore_filename=qmcjax_ckpt_000000_process0.npz --x64 --required_samples=2000 --save_freq=1 --sampling_cfg=PC_batch1000_mcmc3e4.py --libcu_lib_path=/opt/conda/envs/deepsolid/lib/'\""
   ]
  },
  {
   "cell_type": "markdown",
   "id": "111d8398",
   "metadata": {},
   "source": [
    "# 2. Evaluate statistics on samples drawn from the wavefunction"
   ]
  },
  {
   "cell_type": "markdown",
   "id": "54f2976d",
   "metadata": {},
   "source": [
    "Use the `compute_stats` method of the DeepSolidSampler class to evaluate statistics. The following cells only illustrate this for OG as it is the same recipe for all others."
   ]
  },
  {
   "cell_type": "code",
   "execution_count": null,
   "id": "38bb2ead",
   "metadata": {},
   "outputs": [],
   "source": [
    "from utils.sampler import DeepSolidSampler\n",
    "\n",
    "'''\n",
    "    num_processes below specifies the number of processes used for sampling.\n",
    "        e.g. the samples may have been saved in two files due to the use of two nodes, \n",
    "             and we need to specify 2 here to retrieve all samples.\n",
    "'''\n",
    "\n",
    "sampler = DeepSolidSampler(\n",
    "    log_dir='_log_graphene_OG_test/',\n",
    "    sampling_cfg_str='OG_batch1000_mcmc3e4.py',\n",
    "    libcu_lib_path='/opt/conda/envs/deepsolid/lib/',\n",
    "    ckpt_restore_filename='qmcjax_ckpt_000000_process0.npz',\n",
    "    num_processes=1  \n",
    ")\n",
    "sampler.load_samples()\n",
    "samples_all_processes = sampler.get_all_samples()\n",
    "\n",
    "# outputs (m, 3n), where m is the number of samples and 3n is the shape of each configuration of n electrons\n",
    "print(samples_all_processes.shape)"
   ]
  },
  {
   "cell_type": "code",
   "execution_count": null,
   "id": "31480c26",
   "metadata": {},
   "outputs": [],
   "source": [
    "'''\n",
    "    Computes estimates of \n",
    "    - loss: mean of local energy\n",
    "    - var: variance of local energy\n",
    "    - imag: imaginary part of energy\n",
    "    - kinetic: kinetic part of energy\n",
    "    - ewald: ewald part of energy\n",
    "    - \n",
    "    - symm_ratio_mean: mean[ averaged wavefunction / wavefunction ]\n",
    "    - symm_ratio_var: Var[ averaged wavefunction / wavefunction ]\n",
    "    \n",
    "    n_for_each_est indicates the number of samples to use for each estimate\n",
    "\n",
    "    number of estimates produced = number of total samples / n_for_each_est\n",
    "'''\n",
    "\n",
    "sampler.load_stats()\n",
    "if len(sampler.stats_list) == 0:\n",
    "    sampler.compute_stats(n_for_each_est=1) \n",
    "sampler.stats_list"
   ]
  }
 ],
 "metadata": {
  "kernelspec": {
   "display_name": "deepsolid",
   "language": "python",
   "name": "python3"
  },
  "language_info": {
   "codemirror_mode": {
    "name": "ipython",
    "version": 3
   },
   "file_extension": ".py",
   "mimetype": "text/x-python",
   "name": "python",
   "nbconvert_exporter": "python",
   "pygments_lexer": "ipython3",
   "version": "3.10.14"
  }
 },
 "nbformat": 4,
 "nbformat_minor": 5
}
